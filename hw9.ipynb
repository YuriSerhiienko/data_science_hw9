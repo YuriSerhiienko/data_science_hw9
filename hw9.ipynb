{
  "nbformat": 4,
  "nbformat_minor": 0,
  "metadata": {
    "colab": {
      "provenance": [],
      "authorship_tag": "ABX9TyPv9vNXCDpzF4rcV9LZ2n2k",
      "include_colab_link": true
    },
    "kernelspec": {
      "name": "python3",
      "display_name": "Python 3"
    },
    "language_info": {
      "name": "python"
    }
  },
  "cells": [
    {
      "cell_type": "markdown",
      "metadata": {
        "id": "view-in-github",
        "colab_type": "text"
      },
      "source": [
        "<a href=\"https://colab.research.google.com/github/YuriSerhiienko/data_science_hw9/blob/main/hw9.ipynb\" target=\"_parent\"><img src=\"https://colab.research.google.com/assets/colab-badge.svg\" alt=\"Open In Colab\"/></a>"
      ]
    },
    {
      "cell_type": "code",
      "execution_count": 1,
      "metadata": {
        "colab": {
          "base_uri": "https://localhost:8080/"
        },
        "id": "KH95h4fC1s6U",
        "outputId": "8546296c-75b2-4f17-d721-4fd6bcf5d89f"
      },
      "outputs": [
        {
          "output_type": "stream",
          "name": "stdout",
          "text": [
            "Downloading data from https://storage.googleapis.com/tensorflow/tf-keras-datasets/train-labels-idx1-ubyte.gz\n",
            "29515/29515 [==============================] - 0s 0us/step\n",
            "Downloading data from https://storage.googleapis.com/tensorflow/tf-keras-datasets/train-images-idx3-ubyte.gz\n",
            "26421880/26421880 [==============================] - 0s 0us/step\n",
            "Downloading data from https://storage.googleapis.com/tensorflow/tf-keras-datasets/t10k-labels-idx1-ubyte.gz\n",
            "5148/5148 [==============================] - 0s 0us/step\n",
            "Downloading data from https://storage.googleapis.com/tensorflow/tf-keras-datasets/t10k-images-idx3-ubyte.gz\n",
            "4422102/4422102 [==============================] - 0s 0us/step\n",
            "Epoch 1/10\n",
            "750/750 [==============================] - 9s 8ms/step - loss: 0.6981 - accuracy: 0.7487 - val_loss: 0.4366 - val_accuracy: 0.8418\n",
            "Epoch 2/10\n",
            "750/750 [==============================] - 6s 8ms/step - loss: 0.4921 - accuracy: 0.8206 - val_loss: 0.4257 - val_accuracy: 0.8422\n",
            "Epoch 3/10\n",
            "750/750 [==============================] - 4s 5ms/step - loss: 0.4558 - accuracy: 0.8317 - val_loss: 0.3928 - val_accuracy: 0.8577\n",
            "Epoch 4/10\n",
            "750/750 [==============================] - 3s 4ms/step - loss: 0.4327 - accuracy: 0.8445 - val_loss: 0.3752 - val_accuracy: 0.8627\n",
            "Epoch 5/10\n",
            "750/750 [==============================] - 5s 7ms/step - loss: 0.4202 - accuracy: 0.8449 - val_loss: 0.3655 - val_accuracy: 0.8660\n",
            "Epoch 6/10\n",
            "750/750 [==============================] - 4s 5ms/step - loss: 0.4065 - accuracy: 0.8528 - val_loss: 0.3781 - val_accuracy: 0.8576\n",
            "Epoch 7/10\n",
            "750/750 [==============================] - 4s 5ms/step - loss: 0.3943 - accuracy: 0.8539 - val_loss: 0.3493 - val_accuracy: 0.8744\n",
            "Epoch 8/10\n",
            "750/750 [==============================] - 4s 6ms/step - loss: 0.3891 - accuracy: 0.8571 - val_loss: 0.3526 - val_accuracy: 0.8702\n",
            "Epoch 9/10\n",
            "750/750 [==============================] - 4s 5ms/step - loss: 0.3753 - accuracy: 0.8609 - val_loss: 0.3416 - val_accuracy: 0.8774\n",
            "Epoch 10/10\n",
            "750/750 [==============================] - 3s 4ms/step - loss: 0.3744 - accuracy: 0.8611 - val_loss: 0.3488 - val_accuracy: 0.8716\n",
            "313/313 - 1s - loss: 0.3770 - accuracy: 0.8641 - 508ms/epoch - 2ms/step\n",
            "Точність на тестовому наборі: 0.86\n"
          ]
        }
      ],
      "source": [
        "import tensorflow as tf\n",
        "from tensorflow.keras.datasets import fashion_mnist\n",
        "from tensorflow.keras.models import Sequential\n",
        "from tensorflow.keras.layers import Dense, Flatten, Dropout\n",
        "from tensorflow.keras.optimizers import Adam\n",
        "\n",
        "# Завантаження даних Fashion MNIST\n",
        "(train_images, train_labels), (test_images, test_labels) = fashion_mnist.load_data()\n",
        "\n",
        "# Нормалізація даних\n",
        "train_images = train_images / 255.0\n",
        "test_images = test_images / 255.0\n",
        "\n",
        "# Створення моделі\n",
        "model = Sequential([\n",
        "    Flatten(input_shape=(28, 28)),  # Вхідний шар, що \"вирівнює\" зображення\n",
        "    Dense(128, activation='relu'),  # Повнозв'язний шар з 128 нейронами\n",
        "    Dropout(0.5),                   # Dropout для запобігання перенавчанню\n",
        "    Dense(64, activation='relu'),   # Ще один повнозв'язний шар\n",
        "    Dense(10, activation='softmax') # Вихідний шар з 10 класами\n",
        "])\n",
        "\n",
        "# Компіляція моделі\n",
        "model.compile(\n",
        "    optimizer=Adam(),\n",
        "    loss='sparse_categorical_crossentropy',\n",
        "    metrics=['accuracy']\n",
        ")\n",
        "\n",
        "# Навчання моделі\n",
        "history = model.fit(\n",
        "    train_images,\n",
        "    train_labels,\n",
        "    epochs=10,\n",
        "    batch_size=64,\n",
        "    validation_split=0.2\n",
        ")\n",
        "\n",
        "# Оцінка моделі на тестовому наборі\n",
        "test_loss, test_acc = model.evaluate(test_images, test_labels, verbose=2)\n",
        "\n",
        "print(f'Точність на тестовому наборі: {test_acc:.2f}')"
      ]
    },
    {
      "cell_type": "code",
      "source": [
        "model = Sequential([\n",
        "    Flatten(input_shape=(28, 28)),\n",
        "    Dense(256, activation='relu'),  # Збільшено кількість нейронів\n",
        "    Dropout(0.5),                   # Збільшено Dropout\n",
        "    Dense(128, activation='relu'),  # Додано додатковий шар\n",
        "    Dropout(0.5),                   # Додатковий Dropout\n",
        "    Dense(64, activation='relu'),   # Збільшено кількість нейронів\n",
        "    Dense(10, activation='softmax')\n",
        "])\n",
        "\n",
        "model.compile(\n",
        "    optimizer=Adam(lr=0.001),       # Можливо зменшити lr, якщо потрібно\n",
        "    loss='sparse_categorical_crossentropy',\n",
        "    metrics=['accuracy']\n",
        ")\n",
        "\n",
        "history = model.fit(\n",
        "    train_images,\n",
        "    train_labels,\n",
        "    epochs=15,                      # Збільшено кількість епох\n",
        "    batch_size=64,                  # Можна зменшити розмір батчу\n",
        "    validation_split=0.2\n",
        ")\n",
        "\n",
        "test_loss, test_acc = model.evaluate(test_images, test_labels, verbose=2)\n",
        "print(f'Точність на тестовому наборі: {test_acc:.2f}')"
      ],
      "metadata": {
        "colab": {
          "base_uri": "https://localhost:8080/"
        },
        "id": "g8nwBWS74Z37",
        "outputId": "2cf80068-fd21-41d9-ea48-14d841a6fa13"
      },
      "execution_count": 2,
      "outputs": [
        {
          "output_type": "stream",
          "name": "stderr",
          "text": [
            "WARNING:absl:`lr` is deprecated in Keras optimizer, please use `learning_rate` or use the legacy optimizer, e.g.,tf.keras.optimizers.legacy.Adam.\n"
          ]
        },
        {
          "output_type": "stream",
          "name": "stdout",
          "text": [
            "Epoch 1/15\n",
            "750/750 [==============================] - 6s 7ms/step - loss: 0.7774 - accuracy: 0.7164 - val_loss: 0.4522 - val_accuracy: 0.8282\n",
            "Epoch 2/15\n",
            "750/750 [==============================] - 7s 9ms/step - loss: 0.5313 - accuracy: 0.8101 - val_loss: 0.4062 - val_accuracy: 0.8492\n",
            "Epoch 3/15\n",
            "750/750 [==============================] - 5s 6ms/step - loss: 0.4865 - accuracy: 0.8276 - val_loss: 0.4062 - val_accuracy: 0.8537\n",
            "Epoch 4/15\n",
            "750/750 [==============================] - 7s 9ms/step - loss: 0.4588 - accuracy: 0.8353 - val_loss: 0.3966 - val_accuracy: 0.8553\n",
            "Epoch 5/15\n",
            "750/750 [==============================] - 5s 7ms/step - loss: 0.4395 - accuracy: 0.8406 - val_loss: 0.3887 - val_accuracy: 0.8560\n",
            "Epoch 6/15\n",
            "750/750 [==============================] - 5s 7ms/step - loss: 0.4234 - accuracy: 0.8461 - val_loss: 0.3717 - val_accuracy: 0.8668\n",
            "Epoch 7/15\n",
            "750/750 [==============================] - 6s 9ms/step - loss: 0.4155 - accuracy: 0.8509 - val_loss: 0.3695 - val_accuracy: 0.8648\n",
            "Epoch 8/15\n",
            "750/750 [==============================] - 5s 7ms/step - loss: 0.4057 - accuracy: 0.8532 - val_loss: 0.3572 - val_accuracy: 0.8701\n",
            "Epoch 9/15\n",
            "750/750 [==============================] - 7s 9ms/step - loss: 0.3952 - accuracy: 0.8566 - val_loss: 0.3474 - val_accuracy: 0.8762\n",
            "Epoch 10/15\n",
            "750/750 [==============================] - 5s 7ms/step - loss: 0.3883 - accuracy: 0.8609 - val_loss: 0.3553 - val_accuracy: 0.8737\n",
            "Epoch 11/15\n",
            "750/750 [==============================] - 6s 7ms/step - loss: 0.3827 - accuracy: 0.8596 - val_loss: 0.3553 - val_accuracy: 0.8693\n",
            "Epoch 12/15\n",
            "750/750 [==============================] - 6s 8ms/step - loss: 0.3752 - accuracy: 0.8639 - val_loss: 0.3397 - val_accuracy: 0.8784\n",
            "Epoch 13/15\n",
            "750/750 [==============================] - 5s 7ms/step - loss: 0.3729 - accuracy: 0.8645 - val_loss: 0.3408 - val_accuracy: 0.8795\n",
            "Epoch 14/15\n",
            "750/750 [==============================] - 6s 9ms/step - loss: 0.3683 - accuracy: 0.8670 - val_loss: 0.3350 - val_accuracy: 0.8778\n",
            "Epoch 15/15\n",
            "750/750 [==============================] - 5s 7ms/step - loss: 0.3647 - accuracy: 0.8667 - val_loss: 0.3396 - val_accuracy: 0.8786\n",
            "313/313 - 1s - loss: 0.3630 - accuracy: 0.8675 - 581ms/epoch - 2ms/step\n",
            "Точність на тестовому наборі: 0.87\n"
          ]
        }
      ]
    },
    {
      "cell_type": "code",
      "source": [
        "from tensorflow.keras.layers import Conv2D, MaxPooling2D, BatchNormalization\n",
        "from tensorflow.keras.callbacks import EarlyStopping\n",
        "\n",
        "# Перетворення даних для CNN\n",
        "train_images = train_images.reshape((-1, 28, 28, 1))\n",
        "test_images = test_images.reshape((-1, 28, 28, 1))\n",
        "\n",
        "# Створення моделі CNN\n",
        "model = Sequential([\n",
        "    Conv2D(32, (3, 3), activation='relu', input_shape=(28, 28, 1)),\n",
        "    MaxPooling2D((2, 2)),\n",
        "    Conv2D(64, (3, 3), activation='relu'),\n",
        "    MaxPooling2D((2, 2)),\n",
        "    Flatten(),\n",
        "    Dense(128, activation='relu'),\n",
        "    Dropout(0.5),\n",
        "    Dense(10, activation='softmax')\n",
        "])\n",
        "\n",
        "# Компіляція моделі\n",
        "model.compile(\n",
        "    optimizer=Adam(lr=0.0005),\n",
        "    loss='sparse_categorical_crossentropy',\n",
        "    metrics=['accuracy']\n",
        ")\n",
        "\n",
        "# Early Stopping Callback\n",
        "early_stopping = EarlyStopping(monitor='val_accuracy', patience=5)\n",
        "\n",
        "# Навчання моделі\n",
        "history = model.fit(\n",
        "    train_images,\n",
        "    train_labels,\n",
        "    epochs=30,\n",
        "    batch_size=64,\n",
        "    validation_split=0.2,\n",
        "    callbacks=[early_stopping]\n",
        ")\n",
        "\n",
        "# Оцінка моделі\n",
        "test_loss, test_acc = model.evaluate(test_images, test_labels, verbose=2)\n",
        "print(f'Точність на тестовому наборі: {test_acc:.2f}')"
      ],
      "metadata": {
        "colab": {
          "base_uri": "https://localhost:8080/"
        },
        "id": "yfB8-Ygy5Zbu",
        "outputId": "4761f825-0d8f-43e1-cf77-78ab9d1038cd"
      },
      "execution_count": 3,
      "outputs": [
        {
          "output_type": "stream",
          "name": "stderr",
          "text": [
            "WARNING:absl:`lr` is deprecated in Keras optimizer, please use `learning_rate` or use the legacy optimizer, e.g.,tf.keras.optimizers.legacy.Adam.\n"
          ]
        },
        {
          "output_type": "stream",
          "name": "stdout",
          "text": [
            "Epoch 1/30\n",
            "750/750 [==============================] - 42s 55ms/step - loss: 0.6301 - accuracy: 0.7721 - val_loss: 0.4050 - val_accuracy: 0.8451\n",
            "Epoch 2/30\n",
            "750/750 [==============================] - 43s 58ms/step - loss: 0.4127 - accuracy: 0.8520 - val_loss: 0.3363 - val_accuracy: 0.8776\n",
            "Epoch 3/30\n",
            "750/750 [==============================] - 41s 55ms/step - loss: 0.3572 - accuracy: 0.8726 - val_loss: 0.3045 - val_accuracy: 0.8878\n",
            "Epoch 4/30\n",
            "750/750 [==============================] - 43s 58ms/step - loss: 0.3234 - accuracy: 0.8823 - val_loss: 0.2906 - val_accuracy: 0.8904\n",
            "Epoch 5/30\n",
            "750/750 [==============================] - 41s 54ms/step - loss: 0.2960 - accuracy: 0.8913 - val_loss: 0.2903 - val_accuracy: 0.8928\n",
            "Epoch 6/30\n",
            "750/750 [==============================] - 41s 55ms/step - loss: 0.2791 - accuracy: 0.8979 - val_loss: 0.2572 - val_accuracy: 0.9042\n",
            "Epoch 7/30\n",
            "750/750 [==============================] - 41s 54ms/step - loss: 0.2649 - accuracy: 0.9026 - val_loss: 0.2501 - val_accuracy: 0.9074\n",
            "Epoch 8/30\n",
            "750/750 [==============================] - 41s 54ms/step - loss: 0.2500 - accuracy: 0.9092 - val_loss: 0.2478 - val_accuracy: 0.9104\n",
            "Epoch 9/30\n",
            "750/750 [==============================] - 41s 54ms/step - loss: 0.2332 - accuracy: 0.9138 - val_loss: 0.2373 - val_accuracy: 0.9141\n",
            "Epoch 10/30\n",
            "750/750 [==============================] - 42s 56ms/step - loss: 0.2248 - accuracy: 0.9172 - val_loss: 0.2399 - val_accuracy: 0.9157\n",
            "Epoch 11/30\n",
            "750/750 [==============================] - 41s 54ms/step - loss: 0.2142 - accuracy: 0.9208 - val_loss: 0.2505 - val_accuracy: 0.9112\n",
            "Epoch 12/30\n",
            "750/750 [==============================] - 42s 56ms/step - loss: 0.1989 - accuracy: 0.9261 - val_loss: 0.2428 - val_accuracy: 0.9128\n",
            "Epoch 13/30\n",
            "750/750 [==============================] - 40s 54ms/step - loss: 0.1938 - accuracy: 0.9287 - val_loss: 0.2438 - val_accuracy: 0.9117\n",
            "Epoch 14/30\n",
            "750/750 [==============================] - 39s 53ms/step - loss: 0.1842 - accuracy: 0.9307 - val_loss: 0.2365 - val_accuracy: 0.9171\n",
            "Epoch 15/30\n",
            "750/750 [==============================] - 40s 54ms/step - loss: 0.1754 - accuracy: 0.9338 - val_loss: 0.2478 - val_accuracy: 0.9170\n",
            "Epoch 16/30\n",
            "750/750 [==============================] - 40s 54ms/step - loss: 0.1673 - accuracy: 0.9368 - val_loss: 0.2440 - val_accuracy: 0.9160\n",
            "Epoch 17/30\n",
            "750/750 [==============================] - 41s 54ms/step - loss: 0.1577 - accuracy: 0.9400 - val_loss: 0.2630 - val_accuracy: 0.9117\n",
            "Epoch 18/30\n",
            "750/750 [==============================] - 41s 54ms/step - loss: 0.1541 - accuracy: 0.9413 - val_loss: 0.2553 - val_accuracy: 0.9185\n",
            "Epoch 19/30\n",
            "750/750 [==============================] - 43s 57ms/step - loss: 0.1463 - accuracy: 0.9438 - val_loss: 0.2645 - val_accuracy: 0.9182\n",
            "Epoch 20/30\n",
            "750/750 [==============================] - 43s 57ms/step - loss: 0.1433 - accuracy: 0.9448 - val_loss: 0.2649 - val_accuracy: 0.9168\n",
            "Epoch 21/30\n",
            "750/750 [==============================] - 40s 54ms/step - loss: 0.1348 - accuracy: 0.9477 - val_loss: 0.2717 - val_accuracy: 0.9177\n",
            "Epoch 22/30\n",
            "750/750 [==============================] - 42s 56ms/step - loss: 0.1308 - accuracy: 0.9498 - val_loss: 0.2890 - val_accuracy: 0.9148\n",
            "Epoch 23/30\n",
            "750/750 [==============================] - 42s 56ms/step - loss: 0.1233 - accuracy: 0.9506 - val_loss: 0.2956 - val_accuracy: 0.9159\n",
            "313/313 - 2s - loss: 0.3150 - accuracy: 0.9124 - 2s/epoch - 7ms/step\n",
            "Точність на тестовому наборі: 0.91\n"
          ]
        }
      ]
    }
  ]
}