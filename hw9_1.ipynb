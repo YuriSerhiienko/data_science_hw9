{
  "nbformat": 4,
  "nbformat_minor": 0,
  "metadata": {
    "colab": {
      "provenance": [],
      "authorship_tag": "ABX9TyPhrpBXzzr1M4M0XDdqnqIs",
      "include_colab_link": true
    },
    "kernelspec": {
      "name": "python3",
      "display_name": "Python 3"
    },
    "language_info": {
      "name": "python"
    }
  },
  "cells": [
    {
      "cell_type": "markdown",
      "metadata": {
        "id": "view-in-github",
        "colab_type": "text"
      },
      "source": [
        "<a href=\"https://colab.research.google.com/github/YuriSerhiienko/data_science_hw9/blob/main/hw9_1.ipynb\" target=\"_parent\"><img src=\"https://colab.research.google.com/assets/colab-badge.svg\" alt=\"Open In Colab\"/></a>"
      ]
    },
    {
      "cell_type": "code",
      "execution_count": 2,
      "metadata": {
        "colab": {
          "base_uri": "https://localhost:8080/"
        },
        "id": "v5FSwE5JLBo3",
        "outputId": "7193ed38-843f-4467-bc60-45acd282e5b0"
      },
      "outputs": [
        {
          "output_type": "stream",
          "name": "stdout",
          "text": [
            "Epoch 1/10\n",
            "750/750 [==============================] - 6s 7ms/step - loss: 0.5846 - accuracy: 0.7947 - precision_1: 0.8634 - recall_1: 0.7174 - val_loss: 0.4106 - val_accuracy: 0.8537 - val_precision_1: 0.8886 - val_recall_1: 0.8177\n",
            "Epoch 2/10\n",
            "750/750 [==============================] - 4s 5ms/step - loss: 0.4150 - accuracy: 0.8504 - precision_1: 0.8861 - recall_1: 0.8128 - val_loss: 0.3775 - val_accuracy: 0.8667 - val_precision_1: 0.8955 - val_recall_1: 0.8387\n",
            "Epoch 3/10\n",
            "750/750 [==============================] - 3s 5ms/step - loss: 0.3816 - accuracy: 0.8611 - precision_1: 0.8925 - recall_1: 0.8299 - val_loss: 0.3647 - val_accuracy: 0.8693 - val_precision_1: 0.8942 - val_recall_1: 0.8456\n",
            "Epoch 4/10\n",
            "750/750 [==============================] - 4s 5ms/step - loss: 0.3557 - accuracy: 0.8686 - precision_1: 0.8979 - recall_1: 0.8415 - val_loss: 0.3549 - val_accuracy: 0.8720 - val_precision_1: 0.8998 - val_recall_1: 0.8447\n",
            "Epoch 5/10\n",
            "750/750 [==============================] - 4s 6ms/step - loss: 0.3388 - accuracy: 0.8744 - precision_1: 0.9012 - recall_1: 0.8498 - val_loss: 0.3492 - val_accuracy: 0.8736 - val_precision_1: 0.8968 - val_recall_1: 0.8528\n",
            "Epoch 6/10\n",
            "750/750 [==============================] - 3s 5ms/step - loss: 0.3264 - accuracy: 0.8792 - precision_1: 0.9037 - recall_1: 0.8549 - val_loss: 0.3391 - val_accuracy: 0.8781 - val_precision_1: 0.8991 - val_recall_1: 0.8603\n",
            "Epoch 7/10\n",
            "750/750 [==============================] - 4s 5ms/step - loss: 0.3136 - accuracy: 0.8830 - precision_1: 0.9067 - recall_1: 0.8617 - val_loss: 0.3390 - val_accuracy: 0.8782 - val_precision_1: 0.8983 - val_recall_1: 0.8609\n",
            "Epoch 8/10\n",
            "750/750 [==============================] - 5s 6ms/step - loss: 0.3065 - accuracy: 0.8866 - precision_1: 0.9103 - recall_1: 0.8636 - val_loss: 0.3261 - val_accuracy: 0.8800 - val_precision_1: 0.9031 - val_recall_1: 0.8585\n",
            "Epoch 9/10\n",
            "750/750 [==============================] - 3s 4ms/step - loss: 0.2989 - accuracy: 0.8882 - precision_1: 0.9101 - recall_1: 0.8675 - val_loss: 0.3331 - val_accuracy: 0.8802 - val_precision_1: 0.9008 - val_recall_1: 0.8652\n",
            "Epoch 10/10\n",
            "750/750 [==============================] - 3s 5ms/step - loss: 0.2905 - accuracy: 0.8908 - precision_1: 0.9122 - recall_1: 0.8713 - val_loss: 0.3170 - val_accuracy: 0.8867 - val_precision_1: 0.9080 - val_recall_1: 0.8691\n",
            "313/313 - 0s - loss: 0.3381 - accuracy: 0.8808 - precision_1: 0.9030 - recall_1: 0.8591 - 485ms/epoch - 2ms/step\n"
          ]
        }
      ],
      "source": [
        "import tensorflow as tf\n",
        "from tensorflow.keras.datasets import fashion_mnist\n",
        "from tensorflow.keras.models import Sequential\n",
        "from tensorflow.keras.layers import Dense, Flatten, Dropout\n",
        "from tensorflow.keras.optimizers import Adam\n",
        "from tensorflow.keras.metrics import Precision, Recall\n",
        "from tensorflow.keras.utils import to_categorical\n",
        "\n",
        "# Завантаження даних Fashion MNIST\n",
        "(train_images, train_labels), (test_images, test_labels) = fashion_mnist.load_data()\n",
        "\n",
        "# Нормалізація даних\n",
        "train_images = train_images / 255.0\n",
        "test_images = test_images / 255.0\n",
        "\n",
        "# Перетворення міток у one-hot вектори\n",
        "train_labels = to_categorical(train_labels, 10)\n",
        "test_labels = to_categorical(test_labels, 10)\n",
        "\n",
        "# Створення базової моделі\n",
        "model = Sequential([\n",
        "    Flatten(input_shape=(28, 28)),\n",
        "    Dense(128, activation='relu'),\n",
        "    Dropout(0.2),\n",
        "    Dense(64, activation='relu'),\n",
        "    Dense(10, activation='softmax')\n",
        "])\n",
        "\n",
        "# Компіляція моделі з додатковими метриками\n",
        "model.compile(\n",
        "    optimizer=Adam(),\n",
        "    loss='categorical_crossentropy',\n",
        "    metrics=['accuracy', Precision(), Recall()]\n",
        ")\n",
        "\n",
        "# Навчання моделі\n",
        "history = model.fit(\n",
        "    train_images,\n",
        "    train_labels,\n",
        "    epochs=10,\n",
        "    batch_size=64,\n",
        "    validation_split=0.2\n",
        ")\n",
        "\n",
        "# Оцінка моделі на тестовому наборі\n",
        "test_loss, test_acc, test_precision, test_recall = model.evaluate(test_images, test_labels, verbose=2)"
      ]
    },
    {
      "cell_type": "code",
      "source": [
        "# Оновлення архітектури моделі\n",
        "model = Sequential([\n",
        "    Flatten(input_shape=(28, 28)),\n",
        "    Dense(256, activation='relu'),\n",
        "    Dropout(0.5),\n",
        "    Dense(128, activation='relu'),\n",
        "    Dropout(0.5),\n",
        "    Dense(64, activation='relu'),\n",
        "    Dense(10, activation='softmax')\n",
        "])\n",
        "\n",
        "# Оновлення компіляції моделі\n",
        "model.compile(\n",
        "    optimizer=Adam(lr=0.001),\n",
        "    loss='categorical_crossentropy',\n",
        "    metrics=['accuracy', Precision(), Recall()]\n",
        ")\n",
        "\n",
        "# Повторне навчання моделі\n",
        "history = model.fit(\n",
        "    train_images,\n",
        "    train_labels,\n",
        "    epochs=15,\n",
        "    batch_size=64,\n",
        "    validation_split=0.2\n",
        ")\n",
        "\n",
        "# Повторна оцінка моделі\n",
        "test_loss, test_acc, test_precision, test_recall = model.evaluate(test_images, test_labels, verbose=2)"
      ],
      "metadata": {
        "colab": {
          "base_uri": "https://localhost:8080/"
        },
        "id": "MsR-okYIL95B",
        "outputId": "7e0bbd95-63d7-4745-ef25-d6745c5c905e"
      },
      "execution_count": 3,
      "outputs": [
        {
          "output_type": "stream",
          "name": "stderr",
          "text": [
            "WARNING:absl:`lr` is deprecated in Keras optimizer, please use `learning_rate` or use the legacy optimizer, e.g.,tf.keras.optimizers.legacy.Adam.\n"
          ]
        },
        {
          "output_type": "stream",
          "name": "stdout",
          "text": [
            "Epoch 1/15\n",
            "750/750 [==============================] - 7s 8ms/step - loss: 0.7741 - accuracy: 0.7168 - precision_2: 0.8298 - recall_2: 0.6030 - val_loss: 0.4642 - val_accuracy: 0.8357 - val_precision_2: 0.8946 - val_recall_2: 0.7747\n",
            "Epoch 2/15\n",
            "750/750 [==============================] - 5s 6ms/step - loss: 0.5357 - accuracy: 0.8086 - precision_2: 0.8666 - recall_2: 0.7463 - val_loss: 0.4203 - val_accuracy: 0.8459 - val_precision_2: 0.8879 - val_recall_2: 0.8062\n",
            "Epoch 3/15\n",
            "750/750 [==============================] - 6s 9ms/step - loss: 0.4855 - accuracy: 0.8262 - precision_2: 0.8756 - recall_2: 0.7743 - val_loss: 0.3935 - val_accuracy: 0.8605 - val_precision_2: 0.9094 - val_recall_2: 0.8078\n",
            "Epoch 4/15\n",
            "750/750 [==============================] - 5s 6ms/step - loss: 0.4657 - accuracy: 0.8326 - precision_2: 0.8809 - recall_2: 0.7837 - val_loss: 0.3948 - val_accuracy: 0.8536 - val_precision_2: 0.8944 - val_recall_2: 0.8198\n",
            "Epoch 5/15\n",
            "750/750 [==============================] - 7s 9ms/step - loss: 0.4463 - accuracy: 0.8410 - precision_2: 0.8851 - recall_2: 0.7956 - val_loss: 0.3977 - val_accuracy: 0.8560 - val_precision_2: 0.9011 - val_recall_2: 0.8094\n",
            "Epoch 6/15\n",
            "750/750 [==============================] - 5s 7ms/step - loss: 0.4288 - accuracy: 0.8454 - precision_2: 0.8874 - recall_2: 0.8032 - val_loss: 0.3684 - val_accuracy: 0.8624 - val_precision_2: 0.8968 - val_recall_2: 0.8305\n",
            "Epoch 7/15\n",
            "750/750 [==============================] - 5s 7ms/step - loss: 0.4151 - accuracy: 0.8513 - precision_2: 0.8894 - recall_2: 0.8124 - val_loss: 0.3589 - val_accuracy: 0.8708 - val_precision_2: 0.8982 - val_recall_2: 0.8445\n",
            "Epoch 8/15\n",
            "750/750 [==============================] - 6s 9ms/step - loss: 0.4066 - accuracy: 0.8533 - precision_2: 0.8911 - recall_2: 0.8158 - val_loss: 0.3612 - val_accuracy: 0.8700 - val_precision_2: 0.9054 - val_recall_2: 0.8349\n",
            "Epoch 9/15\n",
            "750/750 [==============================] - 5s 7ms/step - loss: 0.4005 - accuracy: 0.8554 - precision_2: 0.8924 - recall_2: 0.8181 - val_loss: 0.3505 - val_accuracy: 0.8735 - val_precision_2: 0.9069 - val_recall_2: 0.8431\n",
            "Epoch 10/15\n",
            "750/750 [==============================] - 7s 9ms/step - loss: 0.3864 - accuracy: 0.8598 - precision_2: 0.8951 - recall_2: 0.8252 - val_loss: 0.3633 - val_accuracy: 0.8727 - val_precision_2: 0.9118 - val_recall_2: 0.8306\n",
            "Epoch 11/15\n",
            "750/750 [==============================] - 5s 7ms/step - loss: 0.3870 - accuracy: 0.8597 - precision_2: 0.8944 - recall_2: 0.8254 - val_loss: 0.3510 - val_accuracy: 0.8728 - val_precision_2: 0.9095 - val_recall_2: 0.8401\n",
            "Epoch 12/15\n",
            "750/750 [==============================] - 7s 9ms/step - loss: 0.3800 - accuracy: 0.8621 - precision_2: 0.8958 - recall_2: 0.8297 - val_loss: 0.3553 - val_accuracy: 0.8738 - val_precision_2: 0.9047 - val_recall_2: 0.8432\n",
            "Epoch 13/15\n",
            "750/750 [==============================] - 5s 7ms/step - loss: 0.3722 - accuracy: 0.8650 - precision_2: 0.8963 - recall_2: 0.8338 - val_loss: 0.3431 - val_accuracy: 0.8748 - val_precision_2: 0.9054 - val_recall_2: 0.8431\n",
            "Epoch 14/15\n",
            "750/750 [==============================] - 6s 8ms/step - loss: 0.3674 - accuracy: 0.8664 - precision_2: 0.8983 - recall_2: 0.8357 - val_loss: 0.3387 - val_accuracy: 0.8786 - val_precision_2: 0.9104 - val_recall_2: 0.8505\n",
            "Epoch 15/15\n",
            "750/750 [==============================] - 6s 8ms/step - loss: 0.3624 - accuracy: 0.8678 - precision_2: 0.8983 - recall_2: 0.8382 - val_loss: 0.3411 - val_accuracy: 0.8744 - val_precision_2: 0.9060 - val_recall_2: 0.8452\n",
            "313/313 - 1s - loss: 0.3612 - accuracy: 0.8693 - precision_2: 0.9005 - recall_2: 0.8358 - 547ms/epoch - 2ms/step\n"
          ]
        }
      ]
    },
    {
      "cell_type": "code",
      "source": [
        "from tensorflow.keras.layers import Conv2D, MaxPooling2D, BatchNormalization\n",
        "from tensorflow.keras.callbacks import EarlyStopping\n",
        "\n",
        "# Перетворення даних для CNN\n",
        "train_images = train_images.reshape((-1, 28, 28, 1))\n",
        "test_images = test_images.reshape((-1, 28, 28, 1))\n",
        "\n",
        "# Створення моделі CNN\n",
        "model = Sequential([\n",
        "    Conv2D(32, (3, 3), activation='relu', input_shape=(28, 28, 1)),\n",
        "    MaxPooling2D((2, 2)),\n",
        "    Conv2D(64, (3, 3), activation='relu'),\n",
        "    MaxPooling2D((2, 2)),\n",
        "    Flatten(),\n",
        "    Dense(128, activation='relu'),\n",
        "    Dropout(0.5),\n",
        "    Dense(10, activation='softmax')\n",
        "])\n",
        "\n",
        "# Компіляція моделі\n",
        "model.compile(\n",
        "    optimizer=Adam(learning_rate=0.0005),\n",
        "    loss='categorical_crossentropy',\n",
        "    metrics=['accuracy', Precision(), Recall()]\n",
        ")\n",
        "\n",
        "# Навчання моделі з Early Stopping\n",
        "early_stopping = EarlyStopping(monitor='val_accuracy', patience=5)\n",
        "history = model.fit(\n",
        "    train_images,\n",
        "    train_labels,\n",
        "    epochs=30,\n",
        "    batch_size=64,\n",
        "    validation_split=0.2,\n",
        "    callbacks=[early_stopping]\n",
        ")\n",
        "\n",
        "# Оцінка моделі\n",
        "test_loss, test_acc, test_precision, test_recall = model.evaluate(test_images, test_labels, verbose=2)"
      ],
      "metadata": {
        "colab": {
          "base_uri": "https://localhost:8080/"
        },
        "id": "QAeIwJiKMk2M",
        "outputId": "04ba5c71-ea31-4939-ea45-3c5d328d1ff9"
      },
      "execution_count": 5,
      "outputs": [
        {
          "output_type": "stream",
          "name": "stdout",
          "text": [
            "Epoch 1/30\n",
            "750/750 [==============================] - 43s 56ms/step - loss: 0.7081 - accuracy: 0.7433 - precision_4: 0.8497 - recall_4: 0.6426 - val_loss: 0.4443 - val_accuracy: 0.8399 - val_precision_4: 0.8936 - val_recall_4: 0.7793\n",
            "Epoch 2/30\n",
            "750/750 [==============================] - 39s 52ms/step - loss: 0.4615 - accuracy: 0.8346 - precision_4: 0.8797 - recall_4: 0.7840 - val_loss: 0.3696 - val_accuracy: 0.8687 - val_precision_4: 0.9035 - val_recall_4: 0.8289\n",
            "Epoch 3/30\n",
            "750/750 [==============================] - 41s 54ms/step - loss: 0.4003 - accuracy: 0.8574 - precision_4: 0.8927 - recall_4: 0.8198 - val_loss: 0.3317 - val_accuracy: 0.8803 - val_precision_4: 0.9064 - val_recall_4: 0.8546\n",
            "Epoch 4/30\n",
            "750/750 [==============================] - 40s 53ms/step - loss: 0.3653 - accuracy: 0.8692 - precision_4: 0.9001 - recall_4: 0.8378 - val_loss: 0.3144 - val_accuracy: 0.8813 - val_precision_4: 0.9056 - val_recall_4: 0.8598\n",
            "Epoch 5/30\n",
            "750/750 [==============================] - 40s 53ms/step - loss: 0.3411 - accuracy: 0.8773 - precision_4: 0.9039 - recall_4: 0.8495 - val_loss: 0.3014 - val_accuracy: 0.8903 - val_precision_4: 0.9102 - val_recall_4: 0.8717\n",
            "Epoch 6/30\n",
            "750/750 [==============================] - 43s 57ms/step - loss: 0.3190 - accuracy: 0.8867 - precision_4: 0.9101 - recall_4: 0.8621 - val_loss: 0.2870 - val_accuracy: 0.8938 - val_precision_4: 0.9120 - val_recall_4: 0.8775\n",
            "Epoch 7/30\n",
            "750/750 [==============================] - 39s 52ms/step - loss: 0.3048 - accuracy: 0.8896 - precision_4: 0.9127 - recall_4: 0.8663 - val_loss: 0.2890 - val_accuracy: 0.8907 - val_precision_4: 0.9106 - val_recall_4: 0.8712\n",
            "Epoch 8/30\n",
            "750/750 [==============================] - 41s 54ms/step - loss: 0.2898 - accuracy: 0.8951 - precision_4: 0.9164 - recall_4: 0.8734 - val_loss: 0.2674 - val_accuracy: 0.9022 - val_precision_4: 0.9200 - val_recall_4: 0.8850\n",
            "Epoch 9/30\n",
            "750/750 [==============================] - 41s 54ms/step - loss: 0.2769 - accuracy: 0.8999 - precision_4: 0.9201 - recall_4: 0.8798 - val_loss: 0.2637 - val_accuracy: 0.9038 - val_precision_4: 0.9212 - val_recall_4: 0.8898\n",
            "Epoch 10/30\n",
            "750/750 [==============================] - 39s 52ms/step - loss: 0.2662 - accuracy: 0.9035 - precision_4: 0.9225 - recall_4: 0.8848 - val_loss: 0.2563 - val_accuracy: 0.9071 - val_precision_4: 0.9219 - val_recall_4: 0.8956\n",
            "Epoch 11/30\n",
            "750/750 [==============================] - 38s 51ms/step - loss: 0.2552 - accuracy: 0.9080 - precision_4: 0.9256 - recall_4: 0.8904 - val_loss: 0.2546 - val_accuracy: 0.9062 - val_precision_4: 0.9220 - val_recall_4: 0.8947\n",
            "Epoch 12/30\n",
            "750/750 [==============================] - 39s 52ms/step - loss: 0.2448 - accuracy: 0.9106 - precision_4: 0.9275 - recall_4: 0.8937 - val_loss: 0.2523 - val_accuracy: 0.9078 - val_precision_4: 0.9191 - val_recall_4: 0.8979\n",
            "Epoch 13/30\n",
            "750/750 [==============================] - 39s 53ms/step - loss: 0.2349 - accuracy: 0.9145 - precision_4: 0.9301 - recall_4: 0.8992 - val_loss: 0.2515 - val_accuracy: 0.9072 - val_precision_4: 0.9173 - val_recall_4: 0.8978\n",
            "Epoch 14/30\n",
            "750/750 [==============================] - 39s 52ms/step - loss: 0.2261 - accuracy: 0.9195 - precision_4: 0.9337 - recall_4: 0.9038 - val_loss: 0.2426 - val_accuracy: 0.9107 - val_precision_4: 0.9236 - val_recall_4: 0.9010\n",
            "Epoch 15/30\n",
            "750/750 [==============================] - 39s 52ms/step - loss: 0.2173 - accuracy: 0.9200 - precision_4: 0.9334 - recall_4: 0.9056 - val_loss: 0.2484 - val_accuracy: 0.9090 - val_precision_4: 0.9200 - val_recall_4: 0.9011\n",
            "Epoch 16/30\n",
            "750/750 [==============================] - 41s 54ms/step - loss: 0.2117 - accuracy: 0.9220 - precision_4: 0.9360 - recall_4: 0.9091 - val_loss: 0.2402 - val_accuracy: 0.9138 - val_precision_4: 0.9237 - val_recall_4: 0.9064\n",
            "Epoch 17/30\n",
            "750/750 [==============================] - 41s 54ms/step - loss: 0.2044 - accuracy: 0.9248 - precision_4: 0.9379 - recall_4: 0.9128 - val_loss: 0.2368 - val_accuracy: 0.9136 - val_precision_4: 0.9251 - val_recall_4: 0.9030\n",
            "Epoch 18/30\n",
            "750/750 [==============================] - 40s 53ms/step - loss: 0.1983 - accuracy: 0.9269 - precision_4: 0.9395 - recall_4: 0.9151 - val_loss: 0.2324 - val_accuracy: 0.9195 - val_precision_4: 0.9287 - val_recall_4: 0.9108\n",
            "Epoch 19/30\n",
            "750/750 [==============================] - 40s 53ms/step - loss: 0.1885 - accuracy: 0.9312 - precision_4: 0.9425 - recall_4: 0.9202 - val_loss: 0.2461 - val_accuracy: 0.9129 - val_precision_4: 0.9224 - val_recall_4: 0.9062\n",
            "Epoch 20/30\n",
            "750/750 [==============================] - 40s 53ms/step - loss: 0.1855 - accuracy: 0.9319 - precision_4: 0.9431 - recall_4: 0.9215 - val_loss: 0.2341 - val_accuracy: 0.9150 - val_precision_4: 0.9247 - val_recall_4: 0.9082\n",
            "Epoch 21/30\n",
            "750/750 [==============================] - 40s 54ms/step - loss: 0.1785 - accuracy: 0.9343 - precision_4: 0.9441 - recall_4: 0.9240 - val_loss: 0.2330 - val_accuracy: 0.9190 - val_precision_4: 0.9273 - val_recall_4: 0.9118\n",
            "Epoch 22/30\n",
            "750/750 [==============================] - 40s 54ms/step - loss: 0.1722 - accuracy: 0.9354 - precision_4: 0.9447 - recall_4: 0.9253 - val_loss: 0.2365 - val_accuracy: 0.9158 - val_precision_4: 0.9243 - val_recall_4: 0.9082\n",
            "Epoch 23/30\n",
            "750/750 [==============================] - 42s 56ms/step - loss: 0.1670 - accuracy: 0.9388 - precision_4: 0.9477 - recall_4: 0.9295 - val_loss: 0.2447 - val_accuracy: 0.9187 - val_precision_4: 0.9249 - val_recall_4: 0.9140\n",
            "313/313 - 2s - loss: 0.2528 - accuracy: 0.9144 - precision_4: 0.9217 - recall_4: 0.9091 - 2s/epoch - 7ms/step\n"
          ]
        }
      ]
    }
  ]
}